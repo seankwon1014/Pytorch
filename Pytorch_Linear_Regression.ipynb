{
  "nbformat": 4,
  "nbformat_minor": 0,
  "metadata": {
    "colab": {
      "name": "Pytorch-Linear Regression.ipynb",
      "provenance": [],
      "collapsed_sections": []
    },
    "kernelspec": {
      "name": "python3",
      "display_name": "Python 3"
    },
    "accelerator": "GPU"
  },
  "cells": [
    {
      "cell_type": "code",
      "metadata": {
        "id": "hEc0wg_QOrps",
        "colab_type": "code",
        "colab": {}
      },
      "source": [
        "import torch\n",
        "import torch.nn as nn\n",
        "import matplotlib.pyplot as plt\n",
        "import numpy as np"
      ],
      "execution_count": 0,
      "outputs": []
    },
    {
      "cell_type": "code",
      "metadata": {
        "id": "7YPgc2ELkd5_",
        "colab_type": "code",
        "outputId": "30d92d3d-40b6-47c8-ab18-c134b54a87a6",
        "colab": {
          "base_uri": "https://localhost:8080/",
          "height": 283
        }
      },
      "source": [
        "X = torch.randn(100, 1) * 10\n",
        "y = X + torch.randn(100,1) * 3\n",
        "plt.plot(X.numpy(), y.numpy(), 'o')"
      ],
      "execution_count": 2,
      "outputs": [
        {
          "output_type": "execute_result",
          "data": {
            "text/plain": [
              "[<matplotlib.lines.Line2D at 0x7fb102eb0978>]"
            ]
          },
          "metadata": {
            "tags": []
          },
          "execution_count": 2
        },
        {
          "output_type": "display_data",
          "data": {
            "image/png": "[encoded data removed]",
            "text/plain": [
              "<Figure size 432x288 with 1 Axes>"
            ]
          },
          "metadata": {
            "tags": []
          }
        }
      ]
    },
    {
      "cell_type": "code",
      "metadata": {
        "id": "lBH4JvAPO1Sb",
        "colab_type": "code",
        "colab": {}
      },
      "source": [
        "class LR(nn.Module):\n",
        "  def __init__(self, input_size, output_size):\n",
        "    super().__init__()\n",
        "    self.linear = nn.Linear(input_size, output_size)\n",
        "  def forward(self, x):\n",
        "    pred = self. linear(x)\n",
        "    return pred"
      ],
      "execution_count": 0,
      "outputs": []
    },
    {
      "cell_type": "code",
      "metadata": {
        "id": "KtHCQI4CPF9w",
        "colab_type": "code",
        "colab": {}
      },
      "source": [
        "torch.manual_seed(1)\n",
        "model = LR(1,1)"
      ],
      "execution_count": 0,
      "outputs": []
    },
    {
      "cell_type": "code",
      "metadata": {
        "id": "XyTnZNadPJ_B",
        "colab_type": "code",
        "outputId": "dfacffc1-5661-4baf-bdaf-63fa39def445",
        "colab": {
          "base_uri": "https://localhost:8080/",
          "height": 71
        }
      },
      "source": [
        "# model.linear\n",
        "list(model.parameters())"
      ],
      "execution_count": 5,
      "outputs": [
        {
          "output_type": "execute_result",
          "data": {
            "text/plain": [
              "[Parameter containing:\n",
              " tensor([[0.5153]], requires_grad=True), Parameter containing:\n",
              " tensor([-0.4414], requires_grad=True)]"
            ]
          },
          "metadata": {
            "tags": []
          },
          "execution_count": 5
        }
      ]
    },
    {
      "cell_type": "code",
      "metadata": {
        "id": "egAE08GcPRU2",
        "colab_type": "code",
        "outputId": "1595aa73-7d42-4a58-a299-9c0f93fb9a95",
        "colab": {
          "base_uri": "https://localhost:8080/",
          "height": 53
        }
      },
      "source": [
        "x = torch.tensor([[1.0],[2.0]])\n",
        "model.linear(x)"
      ],
      "execution_count": 6,
      "outputs": [
        {
          "output_type": "execute_result",
          "data": {
            "text/plain": [
              "tensor([[0.0739],\n",
              "        [0.5891]], grad_fn=<AddmmBackward>)"
            ]
          },
          "metadata": {
            "tags": []
          },
          "execution_count": 6
        }
      ]
    },
    {
      "cell_type": "code",
      "metadata": {
        "id": "RROtaubzQvJb",
        "colab_type": "code",
        "outputId": "c870c57c-0527-4a03-881f-795edd3e20eb",
        "colab": {
          "base_uri": "https://localhost:8080/",
          "height": 53
        }
      },
      "source": [
        "model.forward(x) #Same result. I don't think that \"forward\" is necessary in this case"
      ],
      "execution_count": 7,
      "outputs": [
        {
          "output_type": "execute_result",
          "data": {
            "text/plain": [
              "tensor([[0.0739],\n",
              "        [0.5891]], grad_fn=<AddmmBackward>)"
            ]
          },
          "metadata": {
            "tags": []
          },
          "execution_count": 7
        }
      ]
    },
    {
      "cell_type": "code",
      "metadata": {
        "id": "mxLd3OTik5U8",
        "colab_type": "code",
        "colab": {}
      },
      "source": [
        "[w, b] = model.parameters()"
      ],
      "execution_count": 0,
      "outputs": []
    },
    {
      "cell_type": "code",
      "metadata": {
        "id": "KybQEOGDk_LR",
        "colab_type": "code",
        "colab": {}
      },
      "source": [
        "def get_params():\n",
        "  return(w[0][0].item(), b[0].item())"
      ],
      "execution_count": 0,
      "outputs": []
    },
    {
      "cell_type": "code",
      "metadata": {
        "id": "h-Y8AoJUk_jh",
        "colab_type": "code",
        "colab": {}
      },
      "source": [
        "def plot_fit(title):\n",
        "  plt.title = title\n",
        "  w1, b1 = get_params()\n",
        "  x1 = np.array([-30,30]) #sample observation for the linear model\n",
        "  y1 = w1*x1 + b1 #sample observation for the linear model\n",
        "  plt.plot(x1,y1,'r')\n",
        "  plt.scatter(X, y)\n"
      ],
      "execution_count": 0,
      "outputs": []
    },
    {
      "cell_type": "code",
      "metadata": {
        "id": "lEag0ZE7lYY5",
        "colab_type": "code",
        "outputId": "2a631f8e-0557-4114-b5b1-432d7bc0d8e5",
        "colab": {
          "base_uri": "https://localhost:8080/",
          "height": 265
        }
      },
      "source": [
        "plot_fit('Initial Model')"
      ],
      "execution_count": 11,
      "outputs": [
        {
          "output_type": "display_data",
          "data": {
            "image/png": "[encoded data removed]",
            "text/plain": [
              "<Figure size 432x288 with 1 Axes>"
            ]
          },
          "metadata": {
            "tags": []
          }
        }
      ]
    },
    {
      "cell_type": "code",
      "metadata": {
        "id": "bFiEOmY9lhSz",
        "colab_type": "code",
        "colab": {}
      },
      "source": [
        "criterion = nn.MSELoss()\n",
        "optimizer = torch.optim.SGD(model.parameters(), lr=0.01)"
      ],
      "execution_count": 0,
      "outputs": []
    },
    {
      "cell_type": "code",
      "metadata": {
        "id": "rG7ARAgsnI2b",
        "colab_type": "code",
        "colab": {
          "base_uri": "https://localhost:8080/",
          "height": 1000
        },
        "outputId": "352dd67c-d54c-4ec9-cff3-6ec5e07e7daa"
      },
      "source": [
        "epochs = 100\n",
        "losses = []\n",
        "for i in range(epochs):\n",
        "  y_pred = model.forward(X)\n",
        "  loss = criterion(y, y_pred)\n",
        "  print(\"epoch:\", i, \"loss:\", loss.item())\n",
        "\n",
        "  losses.append(loss)\n",
        "  optimizer.zero_grad()\n",
        "  loss.backward()\n",
        "  optimizer.step()"
      ],
      "execution_count": 13,
      "outputs": [
        {
          "output_type": "stream",
          "text": [
            "epoch: 0 loss: 32.918724060058594\n",
            "epoch: 1 loss: 22.025527954101562\n",
            "epoch: 2 loss: 15.896917343139648\n",
            "epoch: 3 loss: 12.448310852050781\n",
            "epoch: 4 loss: 10.507220268249512\n",
            "epoch: 5 loss: 9.414117813110352\n",
            "epoch: 6 loss: 8.798044204711914\n",
            "epoch: 7 loss: 8.450331687927246\n",
            "epoch: 8 loss: 8.25361442565918\n",
            "epoch: 9 loss: 8.141877174377441\n",
            "epoch: 10 loss: 8.077978134155273\n",
            "epoch: 11 loss: 8.041029930114746\n",
            "epoch: 12 loss: 8.019281387329102\n",
            "epoch: 13 loss: 8.006119728088379\n",
            "epoch: 14 loss: 7.997823715209961\n",
            "epoch: 15 loss: 7.992302417755127\n",
            "epoch: 16 loss: 7.988374710083008\n",
            "epoch: 17 loss: 7.985373497009277\n",
            "epoch: 18 loss: 7.982927322387695\n",
            "epoch: 19 loss: 7.980822563171387\n",
            "epoch: 20 loss: 7.978940010070801\n",
            "epoch: 21 loss: 7.977208137512207\n",
            "epoch: 22 loss: 7.975588321685791\n",
            "epoch: 23 loss: 7.974057197570801\n",
            "epoch: 24 loss: 7.972599983215332\n",
            "epoch: 25 loss: 7.9712090492248535\n",
            "epoch: 26 loss: 7.969876289367676\n",
            "epoch: 27 loss: 7.968599796295166\n",
            "epoch: 28 loss: 7.967374324798584\n",
            "epoch: 29 loss: 7.96619987487793\n",
            "epoch: 30 loss: 7.965070724487305\n",
            "epoch: 31 loss: 7.963987350463867\n",
            "epoch: 32 loss: 7.962946891784668\n",
            "epoch: 33 loss: 7.961946964263916\n",
            "epoch: 34 loss: 7.960986137390137\n",
            "epoch: 35 loss: 7.9600653648376465\n",
            "epoch: 36 loss: 7.959179878234863\n",
            "epoch: 37 loss: 7.958329677581787\n",
            "epoch: 38 loss: 7.957512855529785\n",
            "epoch: 39 loss: 7.956727504730225\n",
            "epoch: 40 loss: 7.955974578857422\n",
            "epoch: 41 loss: 7.955250263214111\n",
            "epoch: 42 loss: 7.954555034637451\n",
            "epoch: 43 loss: 7.953888416290283\n",
            "epoch: 44 loss: 7.953246593475342\n",
            "epoch: 45 loss: 7.952630519866943\n",
            "epoch: 46 loss: 7.95203971862793\n",
            "epoch: 47 loss: 7.951472759246826\n",
            "epoch: 48 loss: 7.950927257537842\n",
            "epoch: 49 loss: 7.950402736663818\n",
            "epoch: 50 loss: 7.949899196624756\n",
            "epoch: 51 loss: 7.949415683746338\n",
            "epoch: 52 loss: 7.948952674865723\n",
            "epoch: 53 loss: 7.948505878448486\n",
            "epoch: 54 loss: 7.948078155517578\n",
            "epoch: 55 loss: 7.947666645050049\n",
            "epoch: 56 loss: 7.947271823883057\n",
            "epoch: 57 loss: 7.946892738342285\n",
            "epoch: 58 loss: 7.946527481079102\n",
            "epoch: 59 loss: 7.9461774826049805\n",
            "epoch: 60 loss: 7.9458417892456055\n",
            "epoch: 61 loss: 7.94551944732666\n",
            "epoch: 62 loss: 7.945209980010986\n",
            "epoch: 63 loss: 7.944911479949951\n",
            "epoch: 64 loss: 7.944624423980713\n",
            "epoch: 65 loss: 7.9443511962890625\n",
            "epoch: 66 loss: 7.944087028503418\n",
            "epoch: 67 loss: 7.94383430480957\n",
            "epoch: 68 loss: 7.9435906410217285\n",
            "epoch: 69 loss: 7.943356990814209\n",
            "epoch: 70 loss: 7.943131923675537\n",
            "epoch: 71 loss: 7.942917346954346\n",
            "epoch: 72 loss: 7.942709922790527\n",
            "epoch: 73 loss: 7.942511081695557\n",
            "epoch: 74 loss: 7.942319869995117\n",
            "epoch: 75 loss: 7.942136287689209\n",
            "epoch: 76 loss: 7.941960334777832\n",
            "epoch: 77 loss: 7.9417901039123535\n",
            "epoch: 78 loss: 7.9416279792785645\n",
            "epoch: 79 loss: 7.941473484039307\n",
            "epoch: 80 loss: 7.941321849822998\n",
            "epoch: 81 loss: 7.941178798675537\n",
            "epoch: 82 loss: 7.9410400390625\n",
            "epoch: 83 loss: 7.940907001495361\n",
            "epoch: 84 loss: 7.940780162811279\n",
            "epoch: 85 loss: 7.940657138824463\n",
            "epoch: 86 loss: 7.940540313720703\n",
            "epoch: 87 loss: 7.940427303314209\n",
            "epoch: 88 loss: 7.9403181076049805\n",
            "epoch: 89 loss: 7.940213680267334\n",
            "epoch: 90 loss: 7.940113544464111\n",
            "epoch: 91 loss: 7.9400177001953125\n",
            "epoch: 92 loss: 7.939925670623779\n",
            "epoch: 93 loss: 7.939836502075195\n",
            "epoch: 94 loss: 7.939751625061035\n",
            "epoch: 95 loss: 7.939670562744141\n",
            "epoch: 96 loss: 7.939591884613037\n",
            "epoch: 97 loss: 7.939516544342041\n",
            "epoch: 98 loss: 7.939443588256836\n",
            "epoch: 99 loss: 7.939373970031738\n"
          ],
          "name": "stdout"
        }
      ]
    },
    {
      "cell_type": "code",
      "metadata": {
        "id": "QYgNhUA9Kp1g",
        "colab_type": "code",
        "colab": {
          "base_uri": "https://localhost:8080/",
          "height": 297
        },
        "outputId": "d66fb33e-ba14-4a4a-d5ed-b4d4ae7a0f71"
      },
      "source": [
        "plt.plot(range(epochs), losses)\n",
        "plt.ylabel(\"Loss\")\n",
        "plt.xlabel(\"epoch\")"
      ],
      "execution_count": 14,
      "outputs": [
        {
          "output_type": "execute_result",
          "data": {
            "text/plain": [
              "Text(0.5, 0, 'epoch')"
            ]
          },
          "metadata": {
            "tags": []
          },
          "execution_count": 14
        },
        {
          "output_type": "display_data",
          "data": {
            "image/png": "[encoded data removed]",
            "text/plain": [
              "<Figure size 432x288 with 1 Axes>"
            ]
          },
          "metadata": {
            "tags": []
          }
        }
      ]
    },
    {
      "cell_type": "code",
      "metadata": {
        "id": "2RuPPwAUJrYB",
        "colab_type": "code",
        "colab": {
          "base_uri": "https://localhost:8080/",
          "height": 265
        },
        "outputId": "b8511875-6fe0-4605-b402-0884dba2a7ab"
      },
      "source": [
        "plot_fit('Trained Model')"
      ],
      "execution_count": 15,
      "outputs": [
        {
          "output_type": "display_data",
          "data": {
            "image/png": "[encoded data removed]",
            "text/plain": [
              "<Figure size 432x288 with 1 Axes>"
            ]
          },
          "metadata": {
            "tags": []
          }
        }
      ]
    }
  ]
}